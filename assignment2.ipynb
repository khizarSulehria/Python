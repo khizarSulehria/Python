{
 "cells": [
  {
   "cell_type": "code",
   "execution_count": 7,
   "metadata": {},
   "outputs": [
    {
     "name": "stdout",
     "output_type": "stream",
     "text": [
      "input subject 1 => 23\n",
      "input subject 2 => 234\n",
      "input subject 3 => 34\n",
      "input subject 4 => 234\n",
      "input subject 5 => 234\n",
      "[23, 234, 34, 234, 234]\n",
      "23\n",
      "234\n",
      "34\n",
      "234\n",
      "234\n",
      "total is 759\n"
     ]
    }
   ],
   "source": [
    "arr  = [] \n",
    "arr.append(int(input(\"input subject 1 => \")))\n",
    "arr.append(int(input(\"input subject 2 => \")))\n",
    "arr.append(int(input(\"input subject 3 => \")))\n",
    "arr.append(int(input(\"input subject 4 => \")))\n",
    "arr.append(int(input(\"input subject 5 => \")))\n",
    "print(arr)\n",
    "total = 0\n",
    "for val in arr:\n",
    "    total += val\n",
    "    print(val)\n",
    "    \n",
    "print(\"total is \" + str(total))\n",
    "\n"
   ]
  },
  {
   "cell_type": "code",
   "execution_count": 16,
   "metadata": {},
   "outputs": [
    {
     "name": "stdout",
     "output_type": "stream",
     "text": [
      "Enter any number => 23\n",
      "23 isn't Even and odd\n"
     ]
    }
   ],
   "source": [
    "inp = int(input(\"Enter any number => \" ))\n",
    "if inp % 2 == 0 :\n",
    "    print(str(inp) + \" is Even\")\n",
    "elif inp % 3 == 0 :\n",
    "    print(str(inp) + \" is Odd\")\n",
    "else:\n",
    "    print (str(inp) + \" isn't Even and odd\")"
   ]
  },
  {
   "cell_type": "code",
   "execution_count": 18,
   "metadata": {},
   "outputs": [
    {
     "name": "stdout",
     "output_type": "stream",
     "text": [
      "13\n"
     ]
    }
   ],
   "source": [
    "list = [12,23,45,8,89,4,78,63,65,8,85,44,2]\n",
    "print(len(list))"
   ]
  },
  {
   "cell_type": "code",
   "execution_count": 29,
   "metadata": {},
   "outputs": [
    {
     "name": "stdout",
     "output_type": "stream",
     "text": [
      "249\n"
     ]
    }
   ],
   "source": [
    "list = [12,23,\"45\",8,\"89\",4,\"78\",63,\"65\",8,85,44,2]\n",
    "sum = 0\n",
    "for val in list:\n",
    "    if type(val).__name__ == 'int' or type(val).__name__ == 'float' :\n",
    "        sum += val\n",
    "print(sum)   "
   ]
  },
  {
   "cell_type": "code",
   "execution_count": 32,
   "metadata": {},
   "outputs": [
    {
     "name": "stdout",
     "output_type": "stream",
     "text": [
      "89\n"
     ]
    }
   ],
   "source": [
    "list = [12,23,45,8,89,4,78,63,65,8,85,44,2]\n",
    "largest = list[0]\n",
    "for index in range(1,len(list)):\n",
    "    if list[index] > largest :\n",
    "        largest = list[index]\n",
    "print(largest)"
   ]
  },
  {
   "cell_type": "code",
   "execution_count": 33,
   "metadata": {},
   "outputs": [
    {
     "name": "stdout",
     "output_type": "stream",
     "text": [
      "1\n",
      "1\n",
      "2\n",
      "3\n"
     ]
    }
   ],
   "source": [
    "a = [1, 1, 2, 3, 5, 8, 13, 21, 34, 55, 89]\n",
    "for val in a:\n",
    "    if val < 5 :\n",
    "        print(val)"
   ]
  },
  {
   "cell_type": "code",
   "execution_count": null,
   "metadata": {},
   "outputs": [],
   "source": []
  }
 ],
 "metadata": {
  "kernelspec": {
   "display_name": "Python 3",
   "language": "python",
   "name": "python3"
  },
  "language_info": {
   "codemirror_mode": {
    "name": "ipython",
    "version": 3
   },
   "file_extension": ".py",
   "mimetype": "text/x-python",
   "name": "python",
   "nbconvert_exporter": "python",
   "pygments_lexer": "ipython3",
   "version": "3.7.4"
  }
 },
 "nbformat": 4,
 "nbformat_minor": 2
}
